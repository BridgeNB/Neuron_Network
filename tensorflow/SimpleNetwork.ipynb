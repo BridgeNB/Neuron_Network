{
 "cells": [
  {
   "cell_type": "code",
   "execution_count": 18,
   "metadata": {
    "collapsed": true
   },
   "outputs": [],
   "source": [
    "import numpy as np\n",
    "import tensorflow as tf\n",
    "import matplotlib.pyplot as plt\n",
    "import input_data\n"
   ]
  },
  {
   "cell_type": "code",
   "execution_count": 19,
   "metadata": {
    "collapsed": false
   },
   "outputs": [
    {
     "name": "stdout",
     "output_type": "stream",
     "text": [
      "Extracting data/train-images-idx3-ubyte.gz\n",
      "Extracting data/train-labels-idx1-ubyte.gz\n",
      "Extracting data/t10k-images-idx3-ubyte.gz\n",
      "Extracting data/t10k-labels-idx1-ubyte.gz\n"
     ]
    }
   ],
   "source": [
    "mnist = input_data.read_data_sets('data/', one_hot=True)"
   ]
  },
  {
   "cell_type": "code",
   "execution_count": 20,
   "metadata": {
    "collapsed": false
   },
   "outputs": [
    {
     "name": "stdout",
     "output_type": "stream",
     "text": [
      "NETWORK READY\n"
     ]
    }
   ],
   "source": [
    "# Network Topologies\n",
    "# This simple network will have two layers alone with 256 units \n",
    "# in the first layer and 128 in the second layer and output would be\n",
    "# 10 since it will distinguish 10 digits\n",
    "n_hidden_1 = 256\n",
    "n_hidden_2 = 128\n",
    "n_input    = 784\n",
    "n_classes  = 10\n",
    "\n",
    "# Inputs and outputs\n",
    "x = tf.placeholder(\"float\", [None, n_input])\n",
    "y = tf.placeholder(\"float\", [None, n_classes])\n",
    "\n",
    "# Network parameters\n",
    "stddev = 0.1\n",
    "weights = {\n",
    "    'w1': tf.Variable(tf.random_normal([n_input, n_hidden_1], stddev=stddev)),\n",
    "    'w2': tf.Variable(tf.random_normal([n_hidden_1, n_hidden_2], stddev=stddev)),\n",
    "    'out': tf.Variable(tf.random_normal([n_hidden_2, n_classes], stddev=stddev))\n",
    "}\n",
    "biases = {\n",
    "    'b1': tf.Variable(tf.random_normal([n_hidden_1])),\n",
    "    'b2': tf.Variable(tf.random_normal([n_hidden_2])),\n",
    "    'out': tf.Variable(tf.random_normal([n_classes]))\n",
    "}\n",
    "print(\"NETWORK READY\")"
   ]
  },
  {
   "cell_type": "code",
   "execution_count": 21,
   "metadata": {
    "collapsed": true
   },
   "outputs": [],
   "source": [
    "def multilayer_perceptron(_X, _weights, _biases):\n",
    "    layer_1 = tf.nn.sigmoid(tf.add(tf.matmul(_X, _weights['w1']), _biases['b1']))\n",
    "    layer_2 = tf.nn.sigmoid(tf.add(tf.matmul(layer_1, _weights['w2']), _biases['b2']))\n",
    "    return (tf.matmul(layer_2, _weights['out']) + _biases['out'])\n"
   ]
  },
  {
   "cell_type": "code",
   "execution_count": 24,
   "metadata": {
    "collapsed": false
   },
   "outputs": [
    {
     "name": "stdout",
     "output_type": "stream",
     "text": [
      "functions ready\n"
     ]
    }
   ],
   "source": [
    "# Prediction\n",
    "pred = multilayer_perceptron(x, weights, biases)\n",
    "\n",
    "# Loss and optimizer\n",
    "# bug fixed on reduce mean method\n",
    "cost = tf.reduce_mean(tf.nn.softmax_cross_entropy_with_logits(logits = pred, labels = y))\n",
    "optm = tf.train.GradientDescentOptimizer(learning_rate=0.001).minimize(cost)\n",
    "corr = tf.equal(tf.argmax(pred, 1), tf.argmax(y,1))\n",
    "accr = tf.reduce_mean(tf.cast(corr, 'float'))\n",
    "\n",
    "# Initializer\n",
    "init = tf.global_variables_initializer()\n",
    "print(\"functions ready\")"
   ]
  },
  {
   "cell_type": "code",
   "execution_count": 28,
   "metadata": {
    "collapsed": false
   },
   "outputs": [
    {
     "name": "stdout",
     "output_type": "stream",
     "text": [
      "Epoch:003/020 cost: 2.275800786\n",
      "Test accuracy: 0.120\n",
      "Epoch:007/020 cost: 2.241535136\n",
      "Test accuracy: 0.210\n",
      "Epoch:011/020 cost: 2.204013637\n",
      "Test accuracy: 0.340\n",
      "Epoch:015/020 cost: 2.160925031\n",
      "Test accuracy: 0.500\n",
      "Epoch:019/020 cost: 2.109837316\n",
      "Test accuracy: 0.500\n",
      "optimiation done\n"
     ]
    }
   ],
   "source": [
    "training_epochs = 20\n",
    "batch_size      = 100\n",
    "display_step    = 4\n",
    "\n",
    "# Launch the graph\n",
    "sess = tf.Session()\n",
    "sess.run(init)\n",
    "\n",
    "# Optimize\n",
    "for epoch in range(training_epochs):\n",
    "    avg_cost = 0\n",
    "    total_batch = int(mnist.train.num_examples/batch_size)\n",
    "    # Iteration\n",
    "    for i in range(total_batch):\n",
    "        batch_xs, batch_ys = mnist.train.next_batch(batch_size)\n",
    "        feeds = {x: batch_xs, y: batch_ys}\n",
    "        sess.run(optm, feed_dict=feeds)\n",
    "        avg_cost += sess.run(cost, feed_dict=feeds)\n",
    "    avg_cost = avg_cost / total_batch\n",
    "    # Display\n",
    "    if (epoch + 1) % display_step == 0:\n",
    "        print(\"Epoch:%03d/%03d cost: %.9f\" %(epoch, training_epochs, avg_cost))\n",
    "        feeds = {x:batch_xs, y: batch_ys}\n",
    "        train_acc = sess.run(accr, feed_dict=feeds)\n",
    "        print(\"Train accuracy: %.3f\" % (train_acc))\n",
    "        test_acc = sess.run(accr, feed_dict=feeds)\n",
    "        print(\"Test accuracy: %.3f\" % (test_acc))\n",
    "print(\"optimiation done\")\n",
    "    \n",
    "    \n",
    "    \n",
    "    \n",
    "    "
   ]
  },
  {
   "cell_type": "code",
   "execution_count": null,
   "metadata": {
    "collapsed": true
   },
   "outputs": [],
   "source": []
  }
 ],
 "metadata": {
  "kernelspec": {
   "display_name": "Python 3",
   "language": "python",
   "name": "python3"
  },
  "language_info": {
   "codemirror_mode": {
    "name": "ipython",
    "version": 3
   },
   "file_extension": ".py",
   "mimetype": "text/x-python",
   "name": "python",
   "nbconvert_exporter": "python",
   "pygments_lexer": "ipython3",
   "version": "3.6.0"
  }
 },
 "nbformat": 4,
 "nbformat_minor": 2
}
