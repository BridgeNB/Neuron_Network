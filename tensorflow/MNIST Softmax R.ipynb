{
 "cells": [
  {
   "cell_type": "code",
   "execution_count": 17,
   "metadata": {
    "collapsed": false
   },
   "outputs": [
    {
     "name": "stdout",
     "output_type": "stream",
     "text": [
      "packs loaded\n"
     ]
    }
   ],
   "source": [
    "import numpy as np\n",
    "import tensorflow as tf\n",
    "import matplotlib.pyplot as plt\n",
    "import input_data\n",
    "\n",
    "print(\"packs loaded\")"
   ]
  },
  {
   "cell_type": "code",
   "execution_count": 18,
   "metadata": {
    "collapsed": false
   },
   "outputs": [
    {
     "name": "stdout",
     "output_type": "stream",
     "text": [
      "Download and Extract MNIST dataset\n",
      "Extracting data/train-images-idx3-ubyte.gz\n",
      "Extracting data/train-labels-idx1-ubyte.gz\n",
      "Extracting data/t10k-images-idx3-ubyte.gz\n",
      "Extracting data/t10k-labels-idx1-ubyte.gz\n",
      "MNIST loaded\n"
     ]
    }
   ],
   "source": [
    "print (\"Download and Extract MNIST dataset\")\n",
    "mnist = input_data.read_data_sets('data/', one_hot=True)\n",
    "# print\n",
    "# print (\" type of 'mnist' is %s\" % (type(mnist)))\n",
    "# print (\" number of train data is %d\" % (mnist.train.num_examples))\n",
    "# print (\" number of test data is %d\" % (mnist.test.num_examples))\n",
    "training   = mnist.train.images\n",
    "trainlabel = mnist.train.labels\n",
    "testing    = mnist.test.images\n",
    "testlabel  = mnist.test.labels\n",
    "print (\"MNIST loaded\")"
   ]
  },
  {
   "cell_type": "code",
   "execution_count": 19,
   "metadata": {
    "collapsed": false
   },
   "outputs": [],
   "source": [
    "# because input data size is unknow, so x and y need placeholder\n",
    "\n",
    "x = tf.placeholder(\"float\", [None, 784])\n",
    "y = tf.placeholder(\"float\", [None, 10])\n",
    "W = tf.Variable(tf.zeros([784, 10]))\n",
    "b = tf.Variable(tf.zeros([10]))\n",
    "\n",
    "# LOGISTIC REGRESSION MODEL\n",
    "actv = tf.nn.softmax(tf.matmul(x, W) + b)\n",
    "# Cost function - log (P) - normaliezd \n",
    "cost = tf.reduce_mean(-tf.reduce_sum(y * tf.log(actv), reduction_indices=1))\n",
    "# Optimizer\n",
    "learning_rate = 0.01\n",
    "optm = tf.train.GradientDescentOptimizer(learning_rate).minimize(cost)\n"
   ]
  },
  {
   "cell_type": "code",
   "execution_count": 20,
   "metadata": {
    "collapsed": true
   },
   "outputs": [],
   "source": [
    "sess = tf.InteractiveSession()"
   ]
  },
  {
   "cell_type": "code",
   "execution_count": 21,
   "metadata": {
    "collapsed": true
   },
   "outputs": [],
   "source": [
    "# Prediction\n",
    "pred = tf.equal(tf.argmax(actv, 1), tf.argmax(y, 1))\n",
    "# Accuracy\n",
    "accr = tf.reduce_mean(tf.cast(pred, \"float\"))\n",
    "# Initialize\n",
    "init = tf.global_variables_initializer()\n"
   ]
  },
  {
   "cell_type": "code",
   "execution_count": 30,
   "metadata": {
    "collapsed": false
   },
   "outputs": [
    {
     "name": "stdout",
     "output_type": "stream",
     "text": [
      "Epoch: 000/050 cost: 1.176482817 train_acc: 0.920 test_acc: 0.855\n",
      "Epoch: 005/050 cost: 0.440992910 train_acc: 0.880 test_acc: 0.895\n",
      "Epoch: 010/050 cost: 0.383378085 train_acc: 0.880 test_acc: 0.905\n",
      "Epoch: 015/050 cost: 0.357307841 train_acc: 0.920 test_acc: 0.909\n",
      "Epoch: 020/050 cost: 0.341513077 train_acc: 0.840 test_acc: 0.912\n",
      "Epoch: 025/050 cost: 0.330441828 train_acc: 0.910 test_acc: 0.914\n",
      "Epoch: 030/050 cost: 0.322287092 train_acc: 0.810 test_acc: 0.916\n",
      "Epoch: 035/050 cost: 0.315936715 train_acc: 0.900 test_acc: 0.916\n",
      "Epoch: 040/050 cost: 0.310728922 train_acc: 0.900 test_acc: 0.918\n",
      "Epoch: 045/050 cost: 0.306377446 train_acc: 0.910 test_acc: 0.918\n",
      "DONE\n"
     ]
    }
   ],
   "source": [
    "training_epochs = 50\n",
    "batch_size      = 100\n",
    "display_step    = 5\n",
    "\n",
    "# Session\n",
    "sess = tf.Session()\n",
    "sess.run(init)\n",
    "# MINI-BATCH LEARNING\n",
    "for epoch in range(training_epochs):\n",
    "    avg_cost = 0\n",
    "    num_batch = int(mnist.train.num_examples / batch_size)\n",
    "    for i in range(num_batch):\n",
    "        batch_xs, batch_ys = mnist.train.next_batch(batch_size)\n",
    "        sess.run(optm, feed_dict={x: batch_xs, y: batch_ys})\n",
    "        feeds = {x: batch_xs, y: batch_ys}\n",
    "        avg_cost += sess.run(cost, feed_dict=feeds) / num_batch\n",
    "    # display\n",
    "    if epoch % display_step == 0:\n",
    "        feeds_train = {x: batch_xs, y: batch_ys}\n",
    "        feeds_test = {x: mnist.test.images, y: mnist.test.labels}\n",
    "        train_acc = sess.run(accr, feed_dict = feeds_train)\n",
    "        test_acc = sess.run(accr, feed_dict = feeds_test)\n",
    "        print(\"Epoch: %03d/%03d cost: %.9f train_acc: %.3f test_acc: %.3f\" % \\\n",
    "              (epoch, training_epochs, avg_cost, train_acc, test_acc))\n",
    "print(\"DONE\")\n",
    "    "
   ]
  },
  {
   "cell_type": "code",
   "execution_count": null,
   "metadata": {
    "collapsed": true
   },
   "outputs": [],
   "source": []
  }
 ],
 "metadata": {
  "kernelspec": {
   "display_name": "Python 3",
   "language": "python",
   "name": "python3"
  },
  "language_info": {
   "codemirror_mode": {
    "name": "ipython",
    "version": 3
   },
   "file_extension": ".py",
   "mimetype": "text/x-python",
   "name": "python",
   "nbconvert_exporter": "python",
   "pygments_lexer": "ipython3",
   "version": "3.6.0"
  }
 },
 "nbformat": 4,
 "nbformat_minor": 2
}
